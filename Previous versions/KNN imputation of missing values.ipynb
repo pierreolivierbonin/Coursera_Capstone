{
 "cells": [
  {
   "cell_type": "markdown",
   "metadata": {},
   "source": [
    "#### What if we use imputation to fill out missing values?\n",
    "Let's try the Nearest Neighbours Imputation method suggested in Sci-kit learn documentation (https://scikit-learn.org/stable/modules/impute.html)"
   ]
  },
  {
   "cell_type": "code",
   "execution_count": 1459,
   "metadata": {},
   "outputs": [
    {
     "data": {
      "text/plain": [
       "(2844, 10)"
      ]
     },
     "execution_count": 1459,
     "metadata": {},
     "output_type": "execute_result"
    }
   ],
   "source": [
    "dfML4=dfML2\n",
    "dfML4.shape"
   ]
  },
  {
   "cell_type": "code",
   "execution_count": 1460,
   "metadata": {},
   "outputs": [
    {
     "data": {
      "text/plain": [
       "age               int64\n",
       "gender            int64\n",
       "country           int64\n",
       "education        object\n",
       "job              object\n",
       "cpny_size       float64\n",
       "team_size       float64\n",
       "ML_methods       object\n",
       "primary_tool     object\n",
       "salaryOrd       float64\n",
       "dtype: object"
      ]
     },
     "execution_count": 1460,
     "metadata": {},
     "output_type": "execute_result"
    }
   ],
   "source": [
    "dfML4.dtypes"
   ]
  },
  {
   "cell_type": "code",
   "execution_count": 1461,
   "metadata": {},
   "outputs": [],
   "source": [
    "Features3 = dfML4[['age', 'gender', 'education', 'job', 'cpny_size', 'team_size', 'ML_methods', 'primary_tool', 'salaryOrd']]\n",
    "Features3 = pd.concat([Features, pd.get_dummies(dfML4['ML_methods'])], axis=1)\n",
    "Features3.dtypes\n",
    "Features3= Features3[['age', 'gender', 'cpny_size', 'team_size', 'salaryOrd','Bachelor’s degree',\n",
    "                       'Master’s degree','No formal education past high school','Doctoral degree', \n",
    "                       'Professional degree']]"
   ]
  },
  {
   "cell_type": "code",
   "execution_count": 1462,
   "metadata": {},
   "outputs": [
    {
     "data": {
      "text/plain": [
       "age                                     float64\n",
       "gender                                  float64\n",
       "cpny_size                               float64\n",
       "team_size                               float64\n",
       "salaryOrd                               float64\n",
       "Bachelor’s degree                       float64\n",
       "Master’s degree                         float64\n",
       "No formal education past high school    float64\n",
       "Doctoral degree                         float64\n",
       "Professional degree                     float64\n",
       "dtype: object"
      ]
     },
     "execution_count": 1462,
     "metadata": {},
     "output_type": "execute_result"
    }
   ],
   "source": [
    "Features3.dtypes"
   ]
  },
  {
   "cell_type": "code",
   "execution_count": 1463,
   "metadata": {
    "scrolled": true
   },
   "outputs": [
    {
     "data": {
      "text/plain": [
       "array([[1.00e+00, 1.00e+00, 4.00e+00, ..., 0.00e+00, 0.00e+00, 0.00e+00],\n",
       "       [3.00e+00, 0.00e+00, 4.00e+00, ..., 0.00e+00, 0.00e+00, 0.00e+00],\n",
       "       [7.00e+00, 1.00e+00, 1.00e+00, ..., 0.00e+00, 0.00e+00, 0.00e+00],\n",
       "       ...,\n",
       "       [4.21e+00, 2.23e-01, 2.26e+00, ..., 3.52e-03, 2.21e-01, 1.50e-02],\n",
       "       [4.21e+00, 2.23e-01, 2.26e+00, ..., 3.52e-03, 2.21e-01, 1.50e-02],\n",
       "       [4.21e+00, 2.23e-01, 2.26e+00, ..., 3.52e-03, 2.21e-01, 1.50e-02]])"
      ]
     },
     "execution_count": 1463,
     "metadata": {},
     "output_type": "execute_result"
    }
   ],
   "source": [
    "from sklearn.impute import KNNImputer\n",
    "nan=np.nan\n",
    "imputer = KNNImputer(n_neighbors=2, weights=\"uniform\")\n",
    "imputer.fit_transform(Features3)"
   ]
  },
  {
   "cell_type": "code",
   "execution_count": null,
   "metadata": {},
   "outputs": [],
   "source": []
  }
 ],
 "metadata": {
  "kernelspec": {
   "display_name": "Python 3",
   "language": "python",
   "name": "python3"
  },
  "language_info": {
   "codemirror_mode": {
    "name": "ipython",
    "version": 3
   },
   "file_extension": ".py",
   "mimetype": "text/x-python",
   "name": "python",
   "nbconvert_exporter": "python",
   "pygments_lexer": "ipython3",
   "version": "3.8.3"
  }
 },
 "nbformat": 4,
 "nbformat_minor": 4
}
